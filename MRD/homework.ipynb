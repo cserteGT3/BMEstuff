{
 "cells": [
  {
   "cell_type": "code",
   "execution_count": null,
   "metadata": {},
   "outputs": [],
   "source": [
    "using SymPy\n",
    "using LinearAlgebra"
   ]
  },
  {
   "cell_type": "markdown",
   "metadata": {},
   "source": [
    "## 1. feladat"
   ]
  },
  {
   "cell_type": "markdown",
   "metadata": {},
   "source": [
    "### Setup"
   ]
  },
  {
   "cell_type": "code",
   "execution_count": null,
   "metadata": {},
   "outputs": [],
   "source": [
    "# DH matrix\n",
    "function DH(α, a, d, θ)\n",
    "    [cos(θ) -sin(θ) 0 a;\n",
    "    cos(α)*sin(θ) cos(α)*cos(θ) -sin(α) -d*sin(α);\n",
    "    sin(α)*sin(θ) sin(α)*cos(θ) cos(α) d*cos(α);\n",
    "    0 0 0 1]\n",
    "end"
   ]
  },
  {
   "cell_type": "code",
   "execution_count": null,
   "metadata": {},
   "outputs": [],
   "source": [
    "# Mechanism parameters\n",
    "l10_ = Sym(8//10); #m\n",
    "l11_ = Sym(6//10); #m\n",
    "l2_ = Sym(3//10); #m\n",
    "rhoA_ = Sym(60); #kg/m\n",
    "m_ = Sym(5); #kg\n",
    "IE_ = Sym(1); #MNm^2\n",
    "\n",
    "g_ = Sym(981//100); # m/s^2"
   ]
  },
  {
   "cell_type": "code",
   "execution_count": null,
   "metadata": {},
   "outputs": [],
   "source": [
    "# just for shorter Sym(0)-s\n",
    "_0 = Sym(0);"
   ]
  },
  {
   "cell_type": "code",
   "execution_count": null,
   "metadata": {},
   "outputs": [],
   "source": [
    "# Symbolic variables\n",
    "\n",
    "@vars l10 l11 l2\n",
    "@vars rhoA m IE m10 m11 m2 m20 g"
   ]
  },
  {
   "cell_type": "code",
   "execution_count": null,
   "metadata": {},
   "outputs": [],
   "source": [
    "# For derivatives\n",
    "@vars t\n",
    "q1 = SymFunction(\"q1\");\n",
    "q2 = SymFunction(\"q2\");"
   ]
  },
  {
   "cell_type": "code",
   "execution_count": null,
   "metadata": {},
   "outputs": [],
   "source": [
    "function ssub(A, x1, x2)\n",
    "    x1f = x1.from\n",
    "    x1t = x1.to\n",
    "    x2f = x2.from\n",
    "    x2t = x2.to\n",
    "    return A.subs(x1f, x1t).subs(x2f, x2t)\n",
    "end"
   ]
  },
  {
   "cell_type": "code",
   "execution_count": null,
   "metadata": {},
   "outputs": [],
   "source": [
    "#x1t = (from = q1, to = q1t(t))\n",
    "#x2t = (from = q2, to = q2t(t))\n",
    "#t1x = (from = q1t(t), to = q1)\n",
    "#t2x = (from = q2t(t), to = q2)\n",
    "dt1 = (from = q1'(t), to = Sym(1))\n",
    "dt2 = (from = q2'(t), to = Sym(1))"
   ]
  },
  {
   "cell_type": "code",
   "execution_count": null,
   "metadata": {},
   "outputs": [],
   "source": [
    "function d(A, x)\n",
    "    A_ = deepcopy(A)\n",
    "    for i in eachindex(A)\n",
    "        A_[i] = diff(A[i], x)\n",
    "    end\n",
    "    A_\n",
    "end"
   ]
  },
  {
   "cell_type": "code",
   "execution_count": null,
   "metadata": {},
   "outputs": [],
   "source": [
    "function simpl(A)\n",
    "    A_ = deepcopy(A)\n",
    "    for i in eachindex(A)\n",
    "        A_[i] = simplify(A[i])\n",
    "    end\n",
    "    A_\n",
    "end"
   ]
  },
  {
   "cell_type": "code",
   "execution_count": null,
   "metadata": {},
   "outputs": [],
   "source": [
    "J(V, x1, x2) = hcat(Sym[diff(V[i], x1) for i in 1:3], Sym[diff(V[i], x2) for i in 1:3])"
   ]
  },
  {
   "cell_type": "code",
   "execution_count": null,
   "metadata": {},
   "outputs": [],
   "source": [
    "function steiner(m, x,y,z)\n",
    "    m*[y^2+z^2 -x*y -x*z;\n",
    "    -y*x x^2+z^2 -y*z;\n",
    "    -z*x -z*y x^2+y^2]\n",
    "end"
   ]
  },
  {
   "cell_type": "code",
   "execution_count": null,
   "metadata": {},
   "outputs": [],
   "source": [
    "function steiner(m,v)\n",
    "    steiner(m, v[1], v[2], v[3])\n",
    "end"
   ]
  },
  {
   "cell_type": "markdown",
   "metadata": {},
   "source": [
    "### DH paraméterek"
   ]
  },
  {
   "cell_type": "code",
   "execution_count": null,
   "metadata": {},
   "outputs": [],
   "source": [
    "# first joint\n",
    "α1 = _0; a1 = _0; d1 = l10; θ1 = PI/2+q1(t);\n",
    "# second joint\n",
    "α2 = -PI/2; a2 = l11; d2 = _0; θ2 = q2(t);\n",
    "# E TCP\n",
    "α3 = PI/2; a3 = _0; d3 = l2; θ3 = -PI/2;"
   ]
  },
  {
   "cell_type": "code",
   "execution_count": null,
   "metadata": {},
   "outputs": [],
   "source": [
    "_0T1 = DH(α1, a1, d1, θ1)"
   ]
  },
  {
   "cell_type": "code",
   "execution_count": null,
   "metadata": {},
   "outputs": [],
   "source": [
    "_1T2 = DH(α2, a2, d2, θ2)"
   ]
  },
  {
   "cell_type": "code",
   "execution_count": null,
   "metadata": {},
   "outputs": [],
   "source": [
    "_2TTCP = DH(α3, a3, d3, θ3)"
   ]
  },
  {
   "cell_type": "markdown",
   "metadata": {},
   "source": [
    "### Direkt kinematika"
   ]
  },
  {
   "cell_type": "code",
   "execution_count": null,
   "metadata": {},
   "outputs": [],
   "source": [
    "_2rTCP = [0, -l2, 0, 1]"
   ]
  },
  {
   "cell_type": "code",
   "execution_count": null,
   "metadata": {},
   "outputs": [],
   "source": [
    "_0rTCP = _0T1 * _1T2 * _2rTCP"
   ]
  },
  {
   "cell_type": "code",
   "execution_count": null,
   "metadata": {},
   "outputs": [],
   "source": [
    "_0rTCP_check = _0T1 * _1T2 * _2TTCP * [0,0,0,1]"
   ]
  },
  {
   "cell_type": "code",
   "execution_count": null,
   "metadata": {},
   "outputs": [],
   "source": [
    "_0rTCP_check == _0rTCP"
   ]
  },
  {
   "cell_type": "code",
   "execution_count": null,
   "metadata": {},
   "outputs": [],
   "source": [
    "# Hasznos mátrixok\n",
    "_0T2 = _0T1 * _1T2;"
   ]
  },
  {
   "cell_type": "markdown",
   "metadata": {},
   "source": [
    "### Inverz kinematika"
   ]
  },
  {
   "cell_type": "markdown",
   "metadata": {},
   "source": [
    "`_0rTCP` - ből"
   ]
  },
  {
   "cell_type": "markdown",
   "metadata": {},
   "source": [
    "### J_E Jacobi-mátrix"
   ]
  },
  {
   "cell_type": "code",
   "execution_count": null,
   "metadata": {},
   "outputs": [],
   "source": [
    "J_E = J(_0rTCP, q1(t), q2(t))"
   ]
  },
  {
   "cell_type": "markdown",
   "metadata": {},
   "source": [
    "### Forgatási tengely és szög"
   ]
  },
  {
   "cell_type": "code",
   "execution_count": null,
   "metadata": {},
   "outputs": [],
   "source": [
    "_0TTCP = _0T1 * _1T2 * _2TTCP"
   ]
  },
  {
   "cell_type": "code",
   "execution_count": null,
   "metadata": {},
   "outputs": [],
   "source": [
    "_0RTCP_q20 = _0TTCP.subs(q2(t), Sym(0))[1:3, 1:3]"
   ]
  },
  {
   "cell_type": "markdown",
   "metadata": {},
   "source": [
    "## 2. feladat"
   ]
  },
  {
   "cell_type": "markdown",
   "metadata": {},
   "source": [
    "## Tömegek"
   ]
  },
  {
   "cell_type": "code",
   "execution_count": null,
   "metadata": {},
   "outputs": [],
   "source": [
    "m10_ = rhoA_*l10_;\n",
    "m11_ = rhoA_*l11_;\n",
    "m1_ = rhoA_*(l10_+l11_);\n",
    "m20_ = rhoA_*l2_;\n",
    "m2_ = m20_+m_;"
   ]
  },
  {
   "cell_type": "markdown",
   "metadata": {},
   "source": [
    "#### Sebesség Jacobi"
   ]
  },
  {
   "cell_type": "code",
   "execution_count": null,
   "metadata": {},
   "outputs": [],
   "source": [
    "# rúd10\n",
    "_1r01 = [_0, _0, -l10/2, Sym(1)];\n",
    "# rúd11\n",
    "_1r11 = [l11/2, _0, _0, Sym(1)];\n",
    "# rúd2\n",
    "_2r2 = [_0, -l2/2, _0, Sym(1)];\n",
    "# m tömeg\n",
    "_2rm = [_0, -l2, _0, Sym(1)];"
   ]
  },
  {
   "cell_type": "code",
   "execution_count": null,
   "metadata": {},
   "outputs": [],
   "source": [
    "# transzformálás 0-s kr-be és összegzés a tagokra\n",
    "_1rrud1 = (m10_*_1r01+m11_*_1r11)/m1_;\n",
    "_0rrud1 = _0T1*_1rrud1;\n",
    "_2rrud2 = (m20_*_2r2+m_*_2rm)/m2_;\n",
    "_0rrud2 = _0T2*_2rrud2;"
   ]
  },
  {
   "cell_type": "code",
   "execution_count": null,
   "metadata": {},
   "outputs": [],
   "source": [
    "_0Jrs1 = J(_0rrud1, q1(t), q2(t));\n",
    "N0Jrs1 = _0Jrs1.subs(l11, l11_);\n",
    "N0Jrs1.evalf(4)"
   ]
  },
  {
   "cell_type": "code",
   "execution_count": null,
   "metadata": {},
   "outputs": [],
   "source": [
    "_0Jrs2 = J(_0rrud2, q1(t), q2(t));\n",
    "N0Jrs2 = _0Jrs2.subs(l11, l11_).subs(l2, l2_);\n",
    "N0Jrs2.evalf(5)"
   ]
  },
  {
   "cell_type": "markdown",
   "metadata": {},
   "source": [
    "#### Szögsebesség Jacobi"
   ]
  },
  {
   "cell_type": "markdown",
   "metadata": {},
   "source": [
    "##### ω1"
   ]
  },
  {
   "cell_type": "code",
   "execution_count": null,
   "metadata": {},
   "outputs": [],
   "source": [
    "_0R1 = _0T1[1:3,1:3]"
   ]
  },
  {
   "cell_type": "code",
   "execution_count": null,
   "metadata": {},
   "outputs": [],
   "source": [
    "_0R1d = d(_0R1,t)"
   ]
  },
  {
   "cell_type": "code",
   "execution_count": null,
   "metadata": {},
   "outputs": [],
   "source": [
    "_0ωx1 = _0R1d * permutedims(_0R1);\n",
    "_ω1 = simpl([_0ωx1[3,2], _0ωx1[1,3], _0ωx1[2,1]])"
   ]
  },
  {
   "cell_type": "code",
   "execution_count": null,
   "metadata": {},
   "outputs": [],
   "source": [
    "_0Jω1 = simpl(J(_ω1, q1'(t), q2'(t)))"
   ]
  },
  {
   "cell_type": "markdown",
   "metadata": {},
   "source": [
    "##### ω2"
   ]
  },
  {
   "cell_type": "code",
   "execution_count": null,
   "metadata": {},
   "outputs": [],
   "source": [
    "_0R2 = _0T2[1:3,1:3]"
   ]
  },
  {
   "cell_type": "code",
   "execution_count": null,
   "metadata": {},
   "outputs": [],
   "source": [
    "_0R2d = d(_0R2, t);\n",
    "simpl(_0R2d)"
   ]
  },
  {
   "cell_type": "code",
   "execution_count": null,
   "metadata": {},
   "outputs": [],
   "source": [
    "_0ωx2 = _0R2d * permutedims(_0R2);\n",
    "_ω2 = simpl([_0ωx2[3,2], _0ωx2[1,3], _0ωx2[2,1]])"
   ]
  },
  {
   "cell_type": "code",
   "execution_count": null,
   "metadata": {},
   "outputs": [],
   "source": [
    "_0Jω2 = simpl(J(_ω2, q1'(t), q2'(t)))"
   ]
  },
  {
   "cell_type": "markdown",
   "metadata": {},
   "source": [
    "### Tehetetlenségi nyomatékok"
   ]
  },
  {
   "cell_type": "markdown",
   "metadata": {},
   "source": [
    "#### 1-es test"
   ]
  },
  {
   "cell_type": "code",
   "execution_count": null,
   "metadata": {},
   "outputs": [],
   "source": [
    "_1th10 = m10*[Sym(1//12)*l10^2 _0 _0;\n",
    "            _0 Sym(1//12)*l10^2 _0;\n",
    "            _0 _0 _0]"
   ]
  },
  {
   "cell_type": "code",
   "execution_count": null,
   "metadata": {},
   "outputs": [],
   "source": [
    "_1th10s = steiner(m10, _1r01-_1rrud1)"
   ]
  },
  {
   "cell_type": "code",
   "execution_count": null,
   "metadata": {},
   "outputs": [],
   "source": [
    "_1th11 = m11*[_0 _0 _0;\n",
    "            _0 Sym(1//12)*l11^2 _0;\n",
    "            _0 _0 Sym(1//12)*l11^2]"
   ]
  },
  {
   "cell_type": "code",
   "execution_count": null,
   "metadata": {},
   "outputs": [],
   "source": [
    "_1th11s = steiner(m11, _1r11-_1rrud1)"
   ]
  },
  {
   "cell_type": "code",
   "execution_count": null,
   "metadata": {},
   "outputs": [],
   "source": [
    "_1θ1s = _1th10+_1th10s+_1th11+_1th11s\n",
    "simpl(_1θ1s)"
   ]
  },
  {
   "cell_type": "code",
   "execution_count": null,
   "metadata": {},
   "outputs": [],
   "source": [
    "N_1θ1s = _1θ1s.subs(m10,m10_).subs(m11,m11_).subs(l10,l10_).subs(l11,l11_);\n",
    "N_1θ1s.evalf(5)"
   ]
  },
  {
   "cell_type": "markdown",
   "metadata": {},
   "source": [
    "#### 2-es test"
   ]
  },
  {
   "cell_type": "code",
   "execution_count": null,
   "metadata": {},
   "outputs": [],
   "source": [
    "_2th20 = m20*[Sym(1//12)*l2^2 _0 _0;\n",
    "            _0 _0 _0;\n",
    "            _0 _0 Sym(1//12)*l2^2]"
   ]
  },
  {
   "cell_type": "code",
   "execution_count": null,
   "metadata": {},
   "outputs": [],
   "source": [
    "_2th20s = steiner(m20, _2r2-_2rrud2)"
   ]
  },
  {
   "cell_type": "code",
   "execution_count": null,
   "metadata": {},
   "outputs": [],
   "source": [
    "_2thms = steiner(m, _2rm-_2rrud2)"
   ]
  },
  {
   "cell_type": "code",
   "execution_count": null,
   "metadata": {},
   "outputs": [],
   "source": [
    "_2θ2s = _2th20+_2th20s+_2thms;\n",
    "simpl(_2θ2s)"
   ]
  },
  {
   "cell_type": "code",
   "execution_count": null,
   "metadata": {},
   "outputs": [],
   "source": [
    "N_2θ2s = _2θ2s.subs(m20,m20_).subs(m,m_).subs(l2,l2_)\n",
    "N_2θ2s.evalf(5)"
   ]
  },
  {
   "cell_type": "markdown",
   "metadata": {},
   "source": [
    "### Tömegmátrixok"
   ]
  },
  {
   "cell_type": "code",
   "execution_count": null,
   "metadata": {},
   "outputs": [],
   "source": [
    "Hv1 = m1_*permutedims(N0Jrs1)*N0Jrs1;\n",
    "simpl(Hv1)"
   ]
  },
  {
   "cell_type": "code",
   "execution_count": null,
   "metadata": {},
   "outputs": [],
   "source": [
    "Hv2 = m2_*permutedims(N0Jrs2)*N0Jrs2;\n",
    "simpl(Hv2)"
   ]
  },
  {
   "cell_type": "code",
   "execution_count": null,
   "metadata": {},
   "outputs": [],
   "source": [
    "Hω1 = permutedims(_0Jω1) * _0R1 * _1θ1s * permutedims(_0R1) * _0Jω1"
   ]
  },
  {
   "cell_type": "code",
   "execution_count": null,
   "metadata": {},
   "outputs": [],
   "source": [
    "Hω2 = permutedims(_0Jω2) * _0R2 * _2θ2s * permutedims(_0R2) * _0Jω2;\n",
    "simpl(Hω2)"
   ]
  },
  {
   "cell_type": "code",
   "execution_count": null,
   "metadata": {},
   "outputs": [],
   "source": [
    "H = Hv1+Hv2+Hω1+Hω2;\n",
    "simpl(H)"
   ]
  },
  {
   "cell_type": "code",
   "execution_count": null,
   "metadata": {},
   "outputs": [],
   "source": [
    "simpl(H.subs(m10,m10_).subs(m20,m20_).subs(m11,m11_).subs(m,m_).subs(l11,l11_).subs(l2,l2_)).evalf(5)"
   ]
  },
  {
   "cell_type": "code",
   "execution_count": null,
   "metadata": {},
   "outputs": [],
   "source": [
    "H = Hv1+Hv2+Hω1+Hω2;\n",
    "simpl(H)"
   ]
  },
  {
   "cell_type": "code",
   "execution_count": null,
   "metadata": {},
   "outputs": [],
   "source": [
    "simpl(H.subs(m10,m10_).subs(m20,m20_).subs(m11,m11_).subs(m,m_).subs(l11,l11_).subs(l2,l2_).evalf(5))"
   ]
  },
  {
   "cell_type": "markdown",
   "metadata": {},
   "source": [
    "### Kinetikus energia"
   ]
  },
  {
   "cell_type": "code",
   "execution_count": null,
   "metadata": {},
   "outputs": [],
   "source": [
    "T_ = Sym(1//2)*[q1'(t) q2'(t)]*H*[q1'(t), q2'(t)];\n",
    "T = T_[1].subs(m10,m10_).subs(m20,m20_).subs(m11,m11_).subs(m,m_).subs(l11,l11_).subs(l2,l2_);"
   ]
  },
  {
   "cell_type": "code",
   "execution_count": null,
   "metadata": {},
   "outputs": [],
   "source": [
    "simplify(T.evalf(5))"
   ]
  },
  {
   "cell_type": "markdown",
   "metadata": {},
   "source": [
    "### Potenciális energia"
   ]
  },
  {
   "cell_type": "code",
   "execution_count": null,
   "metadata": {},
   "outputs": [],
   "source": [
    "U_ = m1_*[0 0 g]*_0rrud1[1:3] + m2_*[0 0 g]*_0rrud2[1:3];\n",
    "U = U_[1].subs(l10,  l10_).subs(g, g_).subs(l2, l2_);\n",
    "simplify(U).evalf(5)"
   ]
  },
  {
   "cell_type": "markdown",
   "metadata": {},
   "source": [
    "### Másodfajú Lagrange-egyenlet"
   ]
  },
  {
   "cell_type": "markdown",
   "metadata": {},
   "source": [
    "##### k=1"
   ]
  },
  {
   "cell_type": "code",
   "execution_count": null,
   "metadata": {},
   "outputs": [],
   "source": [
    "deltaT_deltaq1p = simplify(diff(T, q1'(t)).evalf(5))"
   ]
  },
  {
   "cell_type": "code",
   "execution_count": null,
   "metadata": {},
   "outputs": [],
   "source": [
    "d_dt_deltaT_deltaq1p = simplify(diff(deltaT_deltaq1p, t)).subs(cos(q2(t)), _0)"
   ]
  },
  {
   "cell_type": "markdown",
   "metadata": {},
   "source": [
    "##### k=2"
   ]
  },
  {
   "cell_type": "code",
   "execution_count": null,
   "metadata": {},
   "outputs": [],
   "source": [
    "deltaT_deltaq2p = simplify(diff(T, q2'(t), t)).evalf(5)"
   ]
  },
  {
   "cell_type": "code",
   "execution_count": null,
   "metadata": {},
   "outputs": [],
   "source": [
    "deltaT_deltaq2 = simplify(diff(T, q2(t)).evalf(5))"
   ]
  },
  {
   "cell_type": "code",
   "execution_count": null,
   "metadata": {},
   "outputs": [],
   "source": [
    "deltaU_deltaq2 = diff(U, q2(t)).evalf(5)"
   ]
  },
  {
   "cell_type": "markdown",
   "metadata": {},
   "source": [
    "## 3. feladat"
   ]
  },
  {
   "cell_type": "markdown",
   "metadata": {},
   "source": [
    "### Kinematikai kényszerek"
   ]
  },
  {
   "cell_type": "code",
   "execution_count": null,
   "metadata": {},
   "outputs": [],
   "source": [
    "# 1-es test súlyponti sebessége\n",
    "vs1_ = _ω1 × _0rrud1[1:3];\n",
    "vs1 = vs1_.subs(l11, l11_);\n",
    "vs1.evalf(5)"
   ]
  },
  {
   "cell_type": "code",
   "execution_count": null,
   "metadata": {},
   "outputs": [],
   "source": [
    "# 2-es test súlyponti sebessége\n",
    "vs2_ = _ω2 × _0rrud2[1:3];\n",
    "vs2 = simpl(vs2_.subs(l11, l11_).subs(l10, l10_).subs(l2, l2_));\n",
    "vs2.evalf(5)"
   ]
  },
  {
   "cell_type": "code",
   "execution_count": null,
   "metadata": {},
   "outputs": [],
   "source": [
    "vs1x = SymFunction(\"vs1x\");\n",
    "vs1y = SymFunction(\"vs1y\");\n",
    "ω1z = SymFunction(\"ω1z\");\n",
    "vs2x = SymFunction(\"vs2x\");\n",
    "vs2y = SymFunction(\"vs2y\");\n",
    "vs2z = SymFunction(\"vs2z\");\n",
    "ω2x = SymFunction(\"ω2x\");\n",
    "ω2y = SymFunction(\"ω2y\");\n",
    "ω2z = SymFunction(\"ω2z\");"
   ]
  },
  {
   "cell_type": "code",
   "execution_count": null,
   "metadata": {},
   "outputs": [],
   "source": [
    "y = [vs1x(t), vs1y(t), ω1z(t), vs2x(t), vs2y(t), vs2z(t), ω2x(t), ω2y(t), ω2z(t)];"
   ]
  },
  {
   "cell_type": "code",
   "execution_count": null,
   "metadata": {},
   "outputs": [],
   "source": [
    "f_ = [ vs1x(t) - vs1[1],\n",
    "        vs1y(t) - vs1[2],\n",
    "        vs2x(t) - vs2[1],\n",
    "        vs2y(t) - vs2[2],\n",
    "        vs2z(t) - vs2[3],\n",
    "        ω1z(t) - ω2z(t),\n",
    "        ω2x(t)*sin(q1(t)) - ω2y(t)*cos(q1(t))];\n",
    "f = f_.subs(q1'(t), ω1z(t)).subs(q2'(t), ω2z(t));\n",
    "f.evalf(5)"
   ]
  },
  {
   "cell_type": "code",
   "execution_count": null,
   "metadata": {},
   "outputs": [],
   "source": []
  }
 ],
 "metadata": {
  "kernelspec": {
   "display_name": "Julia 1.1.0",
   "language": "julia",
   "name": "julia-1.1"
  },
  "language_info": {
   "file_extension": ".jl",
   "mimetype": "application/julia",
   "name": "julia",
   "version": "1.1.0"
  }
 },
 "nbformat": 4,
 "nbformat_minor": 2
}
