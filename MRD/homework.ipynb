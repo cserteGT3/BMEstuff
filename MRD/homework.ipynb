{
 "cells": [
  {
   "cell_type": "code",
   "execution_count": 1,
   "metadata": {},
   "outputs": [],
   "source": [
    "using SymPy\n",
    "using LinearAlgebra"
   ]
  },
  {
   "cell_type": "markdown",
   "metadata": {},
   "source": [
    "## 1. feladat"
   ]
  },
  {
   "cell_type": "markdown",
   "metadata": {},
   "source": [
    "### Setup"
   ]
  },
  {
   "cell_type": "code",
   "execution_count": 2,
   "metadata": {},
   "outputs": [
    {
     "data": {
      "text/plain": [
       "DH (generic function with 1 method)"
      ]
     },
     "execution_count": 2,
     "metadata": {},
     "output_type": "execute_result"
    }
   ],
   "source": [
    "# DH matrix\n",
    "function DH(α, a, d, θ)\n",
    "    [cos(θ) -sin(θ) 0 a;\n",
    "    cos(α)*sin(θ) cos(α)*cos(θ) -sin(α) -d*sin(α);\n",
    "    sin(α)*sin(θ) sin(α)*cos(θ) cos(α) d*cos(α);\n",
    "    0 0 0 1]\n",
    "end"
   ]
  },
  {
   "cell_type": "code",
   "execution_count": 65,
   "metadata": {},
   "outputs": [],
   "source": [
    "# Mechanism parameters\n",
    "l10_ = Sym(8//10); #m\n",
    "l11_ = Sym(6//10); #m\n",
    "l2_ = Sym(3//10); #m\n",
    "rhoA_ = Sym(60); #kg/m\n",
    "m_ = Sym(5); #kg\n",
    "IE_ = Sym(1); #MNm^2\n",
    "\n",
    "g_ = Sym(981//100); # m/s^2"
   ]
  },
  {
   "cell_type": "code",
   "execution_count": 4,
   "metadata": {},
   "outputs": [],
   "source": [
    "# just for shorter Sym(0)-s\n",
    "_0 = Sym(0);"
   ]
  },
  {
   "cell_type": "code",
   "execution_count": 5,
   "metadata": {},
   "outputs": [
    {
     "data": {
      "text/plain": [
       "(q1, q2, l10, l11, l2)"
      ]
     },
     "execution_count": 5,
     "metadata": {},
     "output_type": "execute_result"
    }
   ],
   "source": [
    "# Symbolic variables\n",
    "@vars q1 q2 l10 l11 l2"
   ]
  },
  {
   "cell_type": "code",
   "execution_count": 66,
   "metadata": {},
   "outputs": [
    {
     "data": {
      "text/plain": [
       "(rhoA, m, IE, m10, m11, m2, m20, g)"
      ]
     },
     "execution_count": 66,
     "metadata": {},
     "output_type": "execute_result"
    }
   ],
   "source": [
    "@vars rhoA m IE m10 m11 m2 m20 g"
   ]
  },
  {
   "cell_type": "code",
   "execution_count": 7,
   "metadata": {},
   "outputs": [],
   "source": [
    "# For derivatives\n",
    "@vars t\n",
    "q1t = SymFunction(\"q1\");\n",
    "q2t = SymFunction(\"q2\");"
   ]
  },
  {
   "cell_type": "code",
   "execution_count": 8,
   "metadata": {},
   "outputs": [
    {
     "data": {
      "text/plain": [
       "ssub (generic function with 1 method)"
      ]
     },
     "execution_count": 8,
     "metadata": {},
     "output_type": "execute_result"
    }
   ],
   "source": [
    "function ssub(A, x1, x2)\n",
    "    x1f = x1.from\n",
    "    x1t = x1.to\n",
    "    x2f = x2.from\n",
    "    x2t = x2.to\n",
    "    return A.subs(x1f, x1t).subs(x2f, x2t)\n",
    "end"
   ]
  },
  {
   "cell_type": "code",
   "execution_count": 9,
   "metadata": {},
   "outputs": [
    {
     "data": {
      "text/plain": [
       "(from = Derivative(q2(t), t), to = 1)"
      ]
     },
     "execution_count": 9,
     "metadata": {},
     "output_type": "execute_result"
    }
   ],
   "source": [
    "x1t = (from = q1, to = q1t(t))\n",
    "x2t = (from = q2, to = q2t(t))\n",
    "t1x = (from = q1t(t), to = q1)\n",
    "t2x = (from = q2t(t), to = q2)\n",
    "dt1 = (from = q1t'(t), to = Sym(1))\n",
    "dt2 = (from = q2t'(t), to = Sym(1))"
   ]
  },
  {
   "cell_type": "code",
   "execution_count": 10,
   "metadata": {},
   "outputs": [
    {
     "data": {
      "text/plain": [
       "d (generic function with 1 method)"
      ]
     },
     "execution_count": 10,
     "metadata": {},
     "output_type": "execute_result"
    }
   ],
   "source": [
    "function d(A, x)\n",
    "    A_ = deepcopy(A)\n",
    "    for i in eachindex(A)\n",
    "        A_[i] = diff(A[i], x)\n",
    "    end\n",
    "    A_\n",
    "end"
   ]
  },
  {
   "cell_type": "code",
   "execution_count": 11,
   "metadata": {},
   "outputs": [
    {
     "data": {
      "text/plain": [
       "simpl (generic function with 1 method)"
      ]
     },
     "execution_count": 11,
     "metadata": {},
     "output_type": "execute_result"
    }
   ],
   "source": [
    "function simpl(A)\n",
    "    A_ = deepcopy(A)\n",
    "    for i in eachindex(A)\n",
    "        A_[i] = simplify(A[i])\n",
    "    end\n",
    "    A_\n",
    "end"
   ]
  },
  {
   "cell_type": "code",
   "execution_count": 12,
   "metadata": {},
   "outputs": [
    {
     "data": {
      "text/plain": [
       "J (generic function with 1 method)"
      ]
     },
     "execution_count": 12,
     "metadata": {},
     "output_type": "execute_result"
    }
   ],
   "source": [
    "J(V, x1, x2) = hcat(Sym[diff(V[i], x1) for i in 1:3], Sym[diff(V[i], x2) for i in 1:3])"
   ]
  },
  {
   "cell_type": "code",
   "execution_count": 13,
   "metadata": {},
   "outputs": [
    {
     "data": {
      "text/plain": [
       "steiner (generic function with 1 method)"
      ]
     },
     "execution_count": 13,
     "metadata": {},
     "output_type": "execute_result"
    }
   ],
   "source": [
    "function steiner(m, x,y,z)\n",
    "    m*[y^2+z^2 -x*y -x*z;\n",
    "    -y*x x^2+z^2 -y*z;\n",
    "    -z*x -z*y x^2+y^2]\n",
    "end"
   ]
  },
  {
   "cell_type": "code",
   "execution_count": 14,
   "metadata": {},
   "outputs": [
    {
     "data": {
      "text/plain": [
       "steiner (generic function with 2 methods)"
      ]
     },
     "execution_count": 14,
     "metadata": {},
     "output_type": "execute_result"
    }
   ],
   "source": [
    "function steiner(m,v)\n",
    "    steiner(m, v[1], v[2], v[3])\n",
    "end"
   ]
  },
  {
   "cell_type": "markdown",
   "metadata": {},
   "source": [
    "### DH paraméterek"
   ]
  },
  {
   "cell_type": "code",
   "execution_count": 15,
   "metadata": {},
   "outputs": [],
   "source": [
    "# first joint\n",
    "α1 = _0; a1 = _0; d1 = l10; θ1 = PI/2+q1;\n",
    "# second joint\n",
    "α2 = -PI/2; a2 = l11; d2 = _0; θ2 = q2;\n",
    "# E TCP\n",
    "α3 = PI/2; a3 = _0; d3 = l2; θ3 = -PI/2;"
   ]
  },
  {
   "cell_type": "code",
   "execution_count": 16,
   "metadata": {},
   "outputs": [
    {
     "data": {
      "text/latex": [
       "\\[\\left[ \\begin{array}{rrrr}- \\sin{\\left(q_{1} \\right)}&- \\cos{\\left(q_{1} \\right)}&0&0\\\\\\cos{\\left(q_{1} \\right)}&- \\sin{\\left(q_{1} \\right)}&0&0\\\\0&0&1&l_{10}\\\\0&0&0&1\\end{array}\\right]\\]"
      ],
      "text/plain": [
       "4×4 Array{Sym,2}:\n",
       " -sin(q1)  -cos(q1)  0    0\n",
       "  cos(q1)  -sin(q1)  0    0\n",
       "        0         0  1  l10\n",
       "        0         0  0    1"
      ]
     },
     "execution_count": 16,
     "metadata": {},
     "output_type": "execute_result"
    }
   ],
   "source": [
    "_0T1 = DH(α1, a1, d1, θ1)"
   ]
  },
  {
   "cell_type": "code",
   "execution_count": 17,
   "metadata": {},
   "outputs": [
    {
     "data": {
      "text/latex": [
       "\\[\\left[ \\begin{array}{rrrr}\\cos{\\left(q_{2} \\right)}&- \\sin{\\left(q_{2} \\right)}&0&l_{11}\\\\0&0&1&0\\\\- \\sin{\\left(q_{2} \\right)}&- \\cos{\\left(q_{2} \\right)}&0&0\\\\0&0&0&1\\end{array}\\right]\\]"
      ],
      "text/plain": [
       "4×4 Array{Sym,2}:\n",
       "  cos(q2)  -sin(q2)  0  l11\n",
       "        0         0  1    0\n",
       " -sin(q2)  -cos(q2)  0    0\n",
       "        0         0  0    1"
      ]
     },
     "execution_count": 17,
     "metadata": {},
     "output_type": "execute_result"
    }
   ],
   "source": [
    "_1T2 = DH(α2, a2, d2, θ2)"
   ]
  },
  {
   "cell_type": "code",
   "execution_count": 18,
   "metadata": {},
   "outputs": [
    {
     "data": {
      "text/latex": [
       "\\[\\left[ \\begin{array}{rrrr}0&1&0&0\\\\0&0&-1&- l_{2}\\\\-1&0&0&0\\\\0&0&0&1\\end{array}\\right]\\]"
      ],
      "text/plain": [
       "4×4 Array{Sym,2}:\n",
       "  0  1   0    0\n",
       "  0  0  -1  -l2\n",
       " -1  0   0    0\n",
       "  0  0   0    1"
      ]
     },
     "execution_count": 18,
     "metadata": {},
     "output_type": "execute_result"
    }
   ],
   "source": [
    "_2TTCP = DH(α3, a3, d3, θ3)"
   ]
  },
  {
   "cell_type": "markdown",
   "metadata": {},
   "source": [
    "### Direkt kinematika"
   ]
  },
  {
   "cell_type": "code",
   "execution_count": 19,
   "metadata": {},
   "outputs": [
    {
     "data": {
      "text/latex": [
       "\\[ \\left[ \\begin{array}{r}0\\\\- l_{2}\\\\0\\\\1\\end{array} \\right] \\]"
      ],
      "text/plain": [
       "4-element Array{Sym,1}:\n",
       "   0\n",
       " -l2\n",
       "   0\n",
       "   1"
      ]
     },
     "execution_count": 19,
     "metadata": {},
     "output_type": "execute_result"
    }
   ],
   "source": [
    "_2rTCP = [0, -l2, 0, 1]"
   ]
  },
  {
   "cell_type": "code",
   "execution_count": 20,
   "metadata": {},
   "outputs": [
    {
     "data": {
      "text/latex": [
       "\\[ \\left[ \\begin{array}{r}- l_{11} \\sin{\\left(q_{1} \\right)} - l_{2} \\sin{\\left(q_{1} \\right)} \\sin{\\left(q_{2} \\right)}\\\\l_{11} \\cos{\\left(q_{1} \\right)} + l_{2} \\sin{\\left(q_{2} \\right)} \\cos{\\left(q_{1} \\right)}\\\\l_{10} + l_{2} \\cos{\\left(q_{2} \\right)}\\\\1\\end{array} \\right] \\]"
      ],
      "text/plain": [
       "4-element Array{Sym,1}:\n",
       " -l11*sin(q1) - l2*sin(q1)*sin(q2)\n",
       "  l11*cos(q1) + l2*sin(q2)*cos(q1)\n",
       "                  l10 + l2*cos(q2)\n",
       "                                 1"
      ]
     },
     "execution_count": 20,
     "metadata": {},
     "output_type": "execute_result"
    }
   ],
   "source": [
    "_0rTCP = _0T1 * _1T2 * _2rTCP"
   ]
  },
  {
   "cell_type": "code",
   "execution_count": 21,
   "metadata": {},
   "outputs": [
    {
     "data": {
      "text/latex": [
       "\\[ \\left[ \\begin{array}{r}- l_{11} \\sin{\\left(q_{1} \\right)} - l_{2} \\sin{\\left(q_{1} \\right)} \\sin{\\left(q_{2} \\right)}\\\\l_{11} \\cos{\\left(q_{1} \\right)} + l_{2} \\sin{\\left(q_{2} \\right)} \\cos{\\left(q_{1} \\right)}\\\\l_{10} + l_{2} \\cos{\\left(q_{2} \\right)}\\\\1\\end{array} \\right] \\]"
      ],
      "text/plain": [
       "4-element Array{Sym,1}:\n",
       " -l11*sin(q1) - l2*sin(q1)*sin(q2)\n",
       "  l11*cos(q1) + l2*sin(q2)*cos(q1)\n",
       "                  l10 + l2*cos(q2)\n",
       "                                 1"
      ]
     },
     "execution_count": 21,
     "metadata": {},
     "output_type": "execute_result"
    }
   ],
   "source": [
    "_0rTCP_check = _0T1 * _1T2 * _2TTCP * [0,0,0,1]"
   ]
  },
  {
   "cell_type": "code",
   "execution_count": 22,
   "metadata": {},
   "outputs": [
    {
     "data": {
      "text/plain": [
       "true"
      ]
     },
     "execution_count": 22,
     "metadata": {},
     "output_type": "execute_result"
    }
   ],
   "source": [
    "_0rTCP_check == _0rTCP"
   ]
  },
  {
   "cell_type": "code",
   "execution_count": 23,
   "metadata": {},
   "outputs": [],
   "source": [
    "# Hasznos mátrixok\n",
    "_0T2 = _0T1 * _1T2;"
   ]
  },
  {
   "cell_type": "markdown",
   "metadata": {},
   "source": [
    "### Inverz kinematika"
   ]
  },
  {
   "cell_type": "markdown",
   "metadata": {},
   "source": [
    "`_0rTCP` - ből"
   ]
  },
  {
   "cell_type": "markdown",
   "metadata": {},
   "source": [
    "### J_E Jacobi-mátrix"
   ]
  },
  {
   "cell_type": "code",
   "execution_count": 24,
   "metadata": {},
   "outputs": [
    {
     "data": {
      "text/latex": [
       "\\[\\left[ \\begin{array}{rr}- l_{11} \\cos{\\left(q_{1} \\right)} - l_{2} \\sin{\\left(q_{2} \\right)} \\cos{\\left(q_{1} \\right)}&- l_{2} \\sin{\\left(q_{1} \\right)} \\cos{\\left(q_{2} \\right)}\\\\- l_{11} \\sin{\\left(q_{1} \\right)} - l_{2} \\sin{\\left(q_{1} \\right)} \\sin{\\left(q_{2} \\right)}&l_{2} \\cos{\\left(q_{1} \\right)} \\cos{\\left(q_{2} \\right)}\\\\0&- l_{2} \\sin{\\left(q_{2} \\right)}\\end{array}\\right]\\]"
      ],
      "text/plain": [
       "3×2 Array{Sym,2}:\n",
       " -l11*cos(q1) - l2*sin(q2)*cos(q1)  -l2*sin(q1)*cos(q2)\n",
       " -l11*sin(q1) - l2*sin(q1)*sin(q2)   l2*cos(q1)*cos(q2)\n",
       "                                 0          -l2*sin(q2)"
      ]
     },
     "execution_count": 24,
     "metadata": {},
     "output_type": "execute_result"
    }
   ],
   "source": [
    "J_E = J(_0rTCP, q1, q2)"
   ]
  },
  {
   "cell_type": "markdown",
   "metadata": {},
   "source": [
    "### Forgatási tengely és szög"
   ]
  },
  {
   "cell_type": "code",
   "execution_count": 25,
   "metadata": {},
   "outputs": [
    {
     "data": {
      "text/latex": [
       "\\[\\left[ \\begin{array}{rrrr}\\cos{\\left(q_{1} \\right)}&- \\sin{\\left(q_{1} \\right)} \\cos{\\left(q_{2} \\right)}&- \\sin{\\left(q_{1} \\right)} \\sin{\\left(q_{2} \\right)}&- l_{11} \\sin{\\left(q_{1} \\right)} - l_{2} \\sin{\\left(q_{1} \\right)} \\sin{\\left(q_{2} \\right)}\\\\\\sin{\\left(q_{1} \\right)}&\\cos{\\left(q_{1} \\right)} \\cos{\\left(q_{2} \\right)}&\\sin{\\left(q_{2} \\right)} \\cos{\\left(q_{1} \\right)}&l_{11} \\cos{\\left(q_{1} \\right)} + l_{2} \\sin{\\left(q_{2} \\right)} \\cos{\\left(q_{1} \\right)}\\\\0&- \\sin{\\left(q_{2} \\right)}&\\cos{\\left(q_{2} \\right)}&l_{10} + l_{2} \\cos{\\left(q_{2} \\right)}\\\\0&0&0&1\\end{array}\\right]\\]"
      ],
      "text/plain": [
       "4×4 Array{Sym,2}:\n",
       " cos(q1)  -sin(q1)*cos(q2)  …  -l11*sin(q1) - l2*sin(q1)*sin(q2)\n",
       " sin(q1)   cos(q1)*cos(q2)      l11*cos(q1) + l2*sin(q2)*cos(q1)\n",
       "       0          -sin(q2)                      l10 + l2*cos(q2)\n",
       "       0                 0                                     1"
      ]
     },
     "execution_count": 25,
     "metadata": {},
     "output_type": "execute_result"
    }
   ],
   "source": [
    "_0TTCP = _0T1 * _1T2 * _2TTCP"
   ]
  },
  {
   "cell_type": "code",
   "execution_count": 26,
   "metadata": {},
   "outputs": [
    {
     "data": {
      "text/latex": [
       "\\[\\left[ \\begin{array}{rrr}\\cos{\\left(q_{1} \\right)}&- \\sin{\\left(q_{1} \\right)}&0\\\\\\sin{\\left(q_{1} \\right)}&\\cos{\\left(q_{1} \\right)}&0\\\\0&0&1\\end{array}\\right]\\]"
      ],
      "text/plain": [
       "3×3 Array{Sym,2}:\n",
       " cos(q1)  -sin(q1)  0\n",
       " sin(q1)   cos(q1)  0\n",
       "       0         0  1"
      ]
     },
     "execution_count": 26,
     "metadata": {},
     "output_type": "execute_result"
    }
   ],
   "source": [
    "_0RTCP_q20 = _0TTCP.subs(q2, Sym(0))[1:3, 1:3]"
   ]
  },
  {
   "cell_type": "markdown",
   "metadata": {},
   "source": [
    "## 2. feladat"
   ]
  },
  {
   "cell_type": "markdown",
   "metadata": {},
   "source": [
    "## Tömegek"
   ]
  },
  {
   "cell_type": "code",
   "execution_count": 27,
   "metadata": {},
   "outputs": [],
   "source": [
    "m10_ = rhoA_*l10_;\n",
    "m11_ = rhoA_*l11_;\n",
    "m1_ = rhoA_*(l10_+l11_);\n",
    "m20_ = rhoA_*l2_;\n",
    "m2_ = m20_+m_;"
   ]
  },
  {
   "cell_type": "markdown",
   "metadata": {},
   "source": [
    "#### Sebesség Jacobi"
   ]
  },
  {
   "cell_type": "code",
   "execution_count": 28,
   "metadata": {},
   "outputs": [],
   "source": [
    "# rúd10\n",
    "_1r01 = [_0, _0, -l10/2, Sym(1)];\n",
    "# rúd11\n",
    "_1r11 = [l11/2, _0, _0, Sym(1)];\n",
    "# rúd2\n",
    "_2r2 = [_0, -l2/2, _0, Sym(1)];\n",
    "# m tömeg\n",
    "_2rm = [_0, -l2, _0, Sym(1)];"
   ]
  },
  {
   "cell_type": "code",
   "execution_count": 29,
   "metadata": {},
   "outputs": [],
   "source": [
    "# transzformálás 0-s kr-be és összegzés a tagokra\n",
    "_1rrud1 = (m10_*_1r01+m11_*_1r11)/m1_;\n",
    "_0rrud1 = _0T1*_1rrud1;\n",
    "_2rrud2 = (m20_*_2r2+m_*_2rm)/m2_;\n",
    "_0rrud2 = _0T2*_2rrud2;"
   ]
  },
  {
   "cell_type": "code",
   "execution_count": 30,
   "metadata": {},
   "outputs": [
    {
     "data": {
      "text/latex": [
       "\\[\\left[ \\begin{array}{rr}- 0.1286 \\cos{\\left(q_{1} \\right)}&0\\\\- 0.1286 \\sin{\\left(q_{1} \\right)}&0\\\\0&0\\end{array}\\right]\\]"
      ],
      "text/plain": [
       "3×2 Array{Sym,2}:\n",
       " -0.1286*cos(q1)  0\n",
       " -0.1286*sin(q1)  0\n",
       "               0  0"
      ]
     },
     "execution_count": 30,
     "metadata": {},
     "output_type": "execute_result"
    }
   ],
   "source": [
    "_0Jrs1 = J(_0rrud1, q1, q2);\n",
    "N0Jrs1 = _0Jrs1.subs(l11, l11_);\n",
    "N0Jrs1.evalf(4)"
   ]
  },
  {
   "cell_type": "code",
   "execution_count": 31,
   "metadata": {},
   "outputs": [
    {
     "data": {
      "text/latex": [
       "\\[\\left[ \\begin{array}{rr}- 0.18261 \\sin{\\left(q_{2} \\right)} \\cos{\\left(q_{1} \\right)} - 0.6 \\cos{\\left(q_{1} \\right)}&- 0.18261 \\sin{\\left(q_{1} \\right)} \\cos{\\left(q_{2} \\right)}\\\\- 0.18261 \\sin{\\left(q_{1} \\right)} \\sin{\\left(q_{2} \\right)} - 0.6 \\sin{\\left(q_{1} \\right)}&0.18261 \\cos{\\left(q_{1} \\right)} \\cos{\\left(q_{2} \\right)}\\\\0&- 0.18261 \\sin{\\left(q_{2} \\right)}\\end{array}\\right]\\]"
      ],
      "text/plain": [
       "3×2 Array{Sym,2}:\n",
       " -0.18261*sin(q2)*cos(q1) - 0.6*cos(q1)  -0.18261*sin(q1)*cos(q2)\n",
       " -0.18261*sin(q1)*sin(q2) - 0.6*sin(q1)   0.18261*cos(q1)*cos(q2)\n",
       "                                      0          -0.18261*sin(q2)"
      ]
     },
     "execution_count": 31,
     "metadata": {},
     "output_type": "execute_result"
    }
   ],
   "source": [
    "_0Jrs2 = J(_0rrud2, q1, q2);\n",
    "N0Jrs2 = _0Jrs2.subs(l11, l11_).subs(l2, l2_);\n",
    "N0Jrs2.evalf(5)"
   ]
  },
  {
   "cell_type": "markdown",
   "metadata": {},
   "source": [
    "#### Szögsebesség Jacobi"
   ]
  },
  {
   "cell_type": "markdown",
   "metadata": {},
   "source": [
    "##### ω1"
   ]
  },
  {
   "cell_type": "code",
   "execution_count": 32,
   "metadata": {},
   "outputs": [
    {
     "data": {
      "text/latex": [
       "\\[\\left[ \\begin{array}{rrr}- \\sin{\\left(\\operatorname{q_{1}}{\\left(t \\right)} \\right)}&- \\cos{\\left(\\operatorname{q_{1}}{\\left(t \\right)} \\right)}&0\\\\\\cos{\\left(\\operatorname{q_{1}}{\\left(t \\right)} \\right)}&- \\sin{\\left(\\operatorname{q_{1}}{\\left(t \\right)} \\right)}&0\\\\0&0&1\\end{array}\\right]\\]"
      ],
      "text/plain": [
       "3×3 Array{Sym,2}:\n",
       " -sin(q1(t))  -cos(q1(t))  0\n",
       "  cos(q1(t))  -sin(q1(t))  0\n",
       "           0            0  1"
      ]
     },
     "execution_count": 32,
     "metadata": {},
     "output_type": "execute_result"
    }
   ],
   "source": [
    "_0R1 = _0T1[1:3,1:3];\n",
    "_0R1t = ssub(_0R1, x1t, x2t)"
   ]
  },
  {
   "cell_type": "code",
   "execution_count": 33,
   "metadata": {},
   "outputs": [
    {
     "data": {
      "text/latex": [
       "\\[\\left[ \\begin{array}{rrr}- \\cos{\\left(\\operatorname{q_{1}}{\\left(t \\right)} \\right)} \\frac{d}{d t} \\operatorname{q_{1}}{\\left(t \\right)}&\\sin{\\left(\\operatorname{q_{1}}{\\left(t \\right)} \\right)} \\frac{d}{d t} \\operatorname{q_{1}}{\\left(t \\right)}&0\\\\- \\sin{\\left(\\operatorname{q_{1}}{\\left(t \\right)} \\right)} \\frac{d}{d t} \\operatorname{q_{1}}{\\left(t \\right)}&- \\cos{\\left(\\operatorname{q_{1}}{\\left(t \\right)} \\right)} \\frac{d}{d t} \\operatorname{q_{1}}{\\left(t \\right)}&0\\\\0&0&0\\end{array}\\right]\\]"
      ],
      "text/plain": [
       "3×3 Array{Sym,2}:\n",
       " -cos(q1(t))*Derivative(q1(t), t)   sin(q1(t))*Derivative(q1(t), t)  0\n",
       " -sin(q1(t))*Derivative(q1(t), t)  -cos(q1(t))*Derivative(q1(t), t)  0\n",
       "                                0                                 0  0"
      ]
     },
     "execution_count": 33,
     "metadata": {},
     "output_type": "execute_result"
    }
   ],
   "source": [
    "_0R1d = d(_0R1t, t)"
   ]
  },
  {
   "cell_type": "code",
   "execution_count": 34,
   "metadata": {},
   "outputs": [],
   "source": [
    "_0ωx1 = _0R1d * permutedims(_0R1t);\n",
    "_ω1 = [_0ωx1[3,2], _0ωx1[1,3], _0ωx1[2,1]];"
   ]
  },
  {
   "cell_type": "code",
   "execution_count": 35,
   "metadata": {},
   "outputs": [
    {
     "data": {
      "text/latex": [
       "\\[\\left[ \\begin{array}{rr}0&0\\\\0&0\\\\1&0\\end{array}\\right]\\]"
      ],
      "text/plain": [
       "3×2 Array{Sym,2}:\n",
       " 0  0\n",
       " 0  0\n",
       " 1  0"
      ]
     },
     "execution_count": 35,
     "metadata": {},
     "output_type": "execute_result"
    }
   ],
   "source": [
    "_0Jω1 = simpl(J(_ω1, q1t'(t), q2t'(t)));\n",
    "_0Jω1nt = ssub(_0Jω1, t1x, t2x)"
   ]
  },
  {
   "cell_type": "markdown",
   "metadata": {},
   "source": [
    "##### ω2"
   ]
  },
  {
   "cell_type": "code",
   "execution_count": 36,
   "metadata": {},
   "outputs": [
    {
     "data": {
      "text/latex": [
       "\\[\\left[ \\begin{array}{rrr}- \\sin{\\left(\\operatorname{q_{1}}{\\left(t \\right)} \\right)} \\cos{\\left(\\operatorname{q_{2}}{\\left(t \\right)} \\right)}&\\sin{\\left(\\operatorname{q_{1}}{\\left(t \\right)} \\right)} \\sin{\\left(\\operatorname{q_{2}}{\\left(t \\right)} \\right)}&- \\cos{\\left(\\operatorname{q_{1}}{\\left(t \\right)} \\right)}\\\\\\cos{\\left(\\operatorname{q_{1}}{\\left(t \\right)} \\right)} \\cos{\\left(\\operatorname{q_{2}}{\\left(t \\right)} \\right)}&- \\sin{\\left(\\operatorname{q_{2}}{\\left(t \\right)} \\right)} \\cos{\\left(\\operatorname{q_{1}}{\\left(t \\right)} \\right)}&- \\sin{\\left(\\operatorname{q_{1}}{\\left(t \\right)} \\right)}\\\\- \\sin{\\left(\\operatorname{q_{2}}{\\left(t \\right)} \\right)}&- \\cos{\\left(\\operatorname{q_{2}}{\\left(t \\right)} \\right)}&0\\end{array}\\right]\\]"
      ],
      "text/plain": [
       "3×3 Array{Sym,2}:\n",
       " -sin(q1(t))*cos(q2(t))   sin(q1(t))*sin(q2(t))  -cos(q1(t))\n",
       "  cos(q1(t))*cos(q2(t))  -sin(q2(t))*cos(q1(t))  -sin(q1(t))\n",
       "            -sin(q2(t))             -cos(q2(t))            0"
      ]
     },
     "execution_count": 36,
     "metadata": {},
     "output_type": "execute_result"
    }
   ],
   "source": [
    "_0R2 = _0T2[1:3,1:3];\n",
    "_0R2t = ssub(_0R2,x1t, x2t)"
   ]
  },
  {
   "cell_type": "code",
   "execution_count": 37,
   "metadata": {},
   "outputs": [
    {
     "data": {
      "text/latex": [
       "\\[\\left[ \\begin{array}{rrr}\\sin{\\left(\\operatorname{q_{1}}{\\left(t \\right)} \\right)} \\sin{\\left(\\operatorname{q_{2}}{\\left(t \\right)} \\right)} \\frac{d}{d t} \\operatorname{q_{2}}{\\left(t \\right)} - \\cos{\\left(\\operatorname{q_{1}}{\\left(t \\right)} \\right)} \\cos{\\left(\\operatorname{q_{2}}{\\left(t \\right)} \\right)} \\frac{d}{d t} \\operatorname{q_{1}}{\\left(t \\right)}&\\sin{\\left(\\operatorname{q_{1}}{\\left(t \\right)} \\right)} \\cos{\\left(\\operatorname{q_{2}}{\\left(t \\right)} \\right)} \\frac{d}{d t} \\operatorname{q_{2}}{\\left(t \\right)} + \\sin{\\left(\\operatorname{q_{2}}{\\left(t \\right)} \\right)} \\cos{\\left(\\operatorname{q_{1}}{\\left(t \\right)} \\right)} \\frac{d}{d t} \\operatorname{q_{1}}{\\left(t \\right)}&\\sin{\\left(\\operatorname{q_{1}}{\\left(t \\right)} \\right)} \\frac{d}{d t} \\operatorname{q_{1}}{\\left(t \\right)}\\\\- \\sin{\\left(\\operatorname{q_{1}}{\\left(t \\right)} \\right)} \\cos{\\left(\\operatorname{q_{2}}{\\left(t \\right)} \\right)} \\frac{d}{d t} \\operatorname{q_{1}}{\\left(t \\right)} - \\sin{\\left(\\operatorname{q_{2}}{\\left(t \\right)} \\right)} \\cos{\\left(\\operatorname{q_{1}}{\\left(t \\right)} \\right)} \\frac{d}{d t} \\operatorname{q_{2}}{\\left(t \\right)}&\\sin{\\left(\\operatorname{q_{1}}{\\left(t \\right)} \\right)} \\sin{\\left(\\operatorname{q_{2}}{\\left(t \\right)} \\right)} \\frac{d}{d t} \\operatorname{q_{1}}{\\left(t \\right)} - \\cos{\\left(\\operatorname{q_{1}}{\\left(t \\right)} \\right)} \\cos{\\left(\\operatorname{q_{2}}{\\left(t \\right)} \\right)} \\frac{d}{d t} \\operatorname{q_{2}}{\\left(t \\right)}&- \\cos{\\left(\\operatorname{q_{1}}{\\left(t \\right)} \\right)} \\frac{d}{d t} \\operatorname{q_{1}}{\\left(t \\right)}\\\\- \\cos{\\left(\\operatorname{q_{2}}{\\left(t \\right)} \\right)} \\frac{d}{d t} \\operatorname{q_{2}}{\\left(t \\right)}&\\sin{\\left(\\operatorname{q_{2}}{\\left(t \\right)} \\right)} \\frac{d}{d t} \\operatorname{q_{2}}{\\left(t \\right)}&0\\end{array}\\right]\\]"
      ],
      "text/plain": [
       "3×3 Array{Sym,2}:\n",
       "  sin(q1(t))*sin(q2(t))*Derivative(q2(t), t) - cos(q1(t))*cos(q2(t))*Derivative(q1(t), t)  …   sin(q1(t))*Derivative(q1(t), t)\n",
       " -sin(q1(t))*cos(q2(t))*Derivative(q1(t), t) - sin(q2(t))*cos(q1(t))*Derivative(q2(t), t)     -cos(q1(t))*Derivative(q1(t), t)\n",
       "                                                         -cos(q2(t))*Derivative(q2(t), t)                                    0"
      ]
     },
     "execution_count": 37,
     "metadata": {},
     "output_type": "execute_result"
    }
   ],
   "source": [
    "_0R2d = d(_0R2t, t);\n",
    "simpl(_0R2d)"
   ]
  },
  {
   "cell_type": "code",
   "execution_count": 38,
   "metadata": {},
   "outputs": [
    {
     "data": {
      "text/latex": [
       "\\[ \\left[ \\begin{array}{r}- \\cos{\\left(\\operatorname{q_{1}}{\\left(t \\right)} \\right)} \\frac{d}{d t} \\operatorname{q_{2}}{\\left(t \\right)}\\\\- \\sin{\\left(\\operatorname{q_{1}}{\\left(t \\right)} \\right)} \\frac{d}{d t} \\operatorname{q_{2}}{\\left(t \\right)}\\\\\\frac{d}{d t} \\operatorname{q_{1}}{\\left(t \\right)}\\end{array} \\right] \\]"
      ],
      "text/plain": [
       "3-element Array{Sym,1}:\n",
       " -cos(q1(t))*Derivative(q2(t), t)\n",
       " -sin(q1(t))*Derivative(q2(t), t)\n",
       "             Derivative(q1(t), t)"
      ]
     },
     "execution_count": 38,
     "metadata": {},
     "output_type": "execute_result"
    }
   ],
   "source": [
    "_0ωx2 = _0R2d * permutedims(_0R2t);\n",
    "_ω2 = [_0ωx2[3,2], _0ωx2[1,3], _0ωx2[2,1]];\n",
    "simpl(_ω2)"
   ]
  },
  {
   "cell_type": "code",
   "execution_count": 39,
   "metadata": {},
   "outputs": [
    {
     "data": {
      "text/latex": [
       "\\[\\left[ \\begin{array}{rr}0&- \\cos{\\left(q_{1} \\right)}\\\\0&- \\sin{\\left(q_{1} \\right)}\\\\1&0\\end{array}\\right]\\]"
      ],
      "text/plain": [
       "3×2 Array{Sym,2}:\n",
       " 0  -cos(q1)\n",
       " 0  -sin(q1)\n",
       " 1         0"
      ]
     },
     "execution_count": 39,
     "metadata": {},
     "output_type": "execute_result"
    }
   ],
   "source": [
    "_0Jω2 = simpl(J(_ω2, q1t'(t), q2t'(t)));\n",
    "_0Jω2nt = ssub(_0Jω2, t1x, t2x)"
   ]
  },
  {
   "cell_type": "markdown",
   "metadata": {},
   "source": [
    "### Tehetetlenségi nyomatékok"
   ]
  },
  {
   "cell_type": "markdown",
   "metadata": {},
   "source": [
    "#### 1-es test"
   ]
  },
  {
   "cell_type": "code",
   "execution_count": 40,
   "metadata": {},
   "outputs": [
    {
     "data": {
      "text/latex": [
       "\\[\\left[ \\begin{array}{rrr}\\frac{l_{10}^{2} m_{10}}{12}&0&0\\\\0&\\frac{l_{10}^{2} m_{10}}{12}&0\\\\0&0&0\\end{array}\\right]\\]"
      ],
      "text/plain": [
       "3×3 Array{Sym,2}:\n",
       " l10^2*m10/12             0  0\n",
       "            0  l10^2*m10/12  0\n",
       "            0             0  0"
      ]
     },
     "execution_count": 40,
     "metadata": {},
     "output_type": "execute_result"
    }
   ],
   "source": [
    "_1th10 = m10*[Sym(1//12)*l10^2 _0 _0;\n",
    "            _0 Sym(1//12)*l10^2 _0;\n",
    "            _0 _0 _0]"
   ]
  },
  {
   "cell_type": "code",
   "execution_count": 41,
   "metadata": {},
   "outputs": [
    {
     "data": {
      "text/latex": [
       "\\[\\left[ \\begin{array}{rrr}\\frac{9 l_{10}^{2} m_{10}}{196}&0&- \\frac{9 l_{10} l_{11} m_{10}}{196}\\\\0&m_{10} \\left(\\frac{9 l_{10}^{2}}{196} + \\frac{9 l_{11}^{2}}{196}\\right)&0\\\\- \\frac{9 l_{10} l_{11} m_{10}}{196}&0&\\frac{9 l_{11}^{2} m_{10}}{196}\\end{array}\\right]\\]"
      ],
      "text/plain": [
       "3×3 Array{Sym,2}:\n",
       "    9*l10^2*m10/196                                0  -9*l10*l11*m10/196\n",
       "                  0  m10*(9*l10^2/196 + 9*l11^2/196)                   0\n",
       " -9*l10*l11*m10/196                                0     9*l11^2*m10/196"
      ]
     },
     "execution_count": 41,
     "metadata": {},
     "output_type": "execute_result"
    }
   ],
   "source": [
    "_1th10s = steiner(m10, _1r01-_1rrud1)"
   ]
  },
  {
   "cell_type": "code",
   "execution_count": 42,
   "metadata": {},
   "outputs": [
    {
     "data": {
      "text/latex": [
       "\\[\\left[ \\begin{array}{rrr}0&0&0\\\\0&\\frac{l_{11}^{2} m_{11}}{12}&0\\\\0&0&\\frac{l_{11}^{2} m_{11}}{12}\\end{array}\\right]\\]"
      ],
      "text/plain": [
       "3×3 Array{Sym,2}:\n",
       " 0             0             0\n",
       " 0  l11^2*m11/12             0\n",
       " 0             0  l11^2*m11/12"
      ]
     },
     "execution_count": 42,
     "metadata": {},
     "output_type": "execute_result"
    }
   ],
   "source": [
    "_1th11 = m11*[_0 _0 _0;\n",
    "            _0 Sym(1//12)*l11^2 _0;\n",
    "            _0 _0 Sym(1//12)*l11^2]"
   ]
  },
  {
   "cell_type": "code",
   "execution_count": 43,
   "metadata": {},
   "outputs": [
    {
     "data": {
      "text/latex": [
       "\\[\\left[ \\begin{array}{rrr}\\frac{4 l_{10}^{2} m_{11}}{49}&0&- \\frac{4 l_{10} l_{11} m_{11}}{49}\\\\0&m_{11} \\left(\\frac{4 l_{10}^{2}}{49} + \\frac{4 l_{11}^{2}}{49}\\right)&0\\\\- \\frac{4 l_{10} l_{11} m_{11}}{49}&0&\\frac{4 l_{11}^{2} m_{11}}{49}\\end{array}\\right]\\]"
      ],
      "text/plain": [
       "3×3 Array{Sym,2}:\n",
       "    4*l10^2*m11/49                              0  -4*l10*l11*m11/49\n",
       "                 0  m11*(4*l10^2/49 + 4*l11^2/49)                  0\n",
       " -4*l10*l11*m11/49                              0     4*l11^2*m11/49"
      ]
     },
     "execution_count": 43,
     "metadata": {},
     "output_type": "execute_result"
    }
   ],
   "source": [
    "_1th11s = steiner(m11, _1r11-_1rrud1)"
   ]
  },
  {
   "cell_type": "code",
   "execution_count": 44,
   "metadata": {},
   "outputs": [
    {
     "data": {
      "text/latex": [
       "\\[\\left[ \\begin{array}{rrr}\\frac{l_{10}^{2} \\left(19 m_{10} + 12 m_{11}\\right)}{147}&0&- \\frac{l_{10} l_{11} \\left(9 m_{10} + 16 m_{11}\\right)}{196}\\\\0&\\frac{19 l_{10}^{2} m_{10}}{147} + \\frac{4 l_{10}^{2} m_{11}}{49} + \\frac{9 l_{11}^{2} m_{10}}{196} + \\frac{97 l_{11}^{2} m_{11}}{588}&0\\\\- \\frac{l_{10} l_{11} \\left(9 m_{10} + 16 m_{11}\\right)}{196}&0&\\frac{l_{11}^{2} \\left(27 m_{10} + 97 m_{11}\\right)}{588}\\end{array}\\right]\\]"
      ],
      "text/plain": [
       "3×3 Array{Sym,2}:\n",
       "   l10^2*(19*m10 + 12*m11)/147  …  -l10*l11*(9*m10 + 16*m11)/196\n",
       "                             0                                 0\n",
       " -l10*l11*(9*m10 + 16*m11)/196       l11^2*(27*m10 + 97*m11)/588"
      ]
     },
     "execution_count": 44,
     "metadata": {},
     "output_type": "execute_result"
    }
   ],
   "source": [
    "_1θ1s = _1th10+_1th10s+_1th11+_1th11s\n",
    "simpl(_1θ1s)"
   ]
  },
  {
   "cell_type": "code",
   "execution_count": 45,
   "metadata": {},
   "outputs": [
    {
     "data": {
      "text/latex": [
       "\\[\\left[ \\begin{array}{rrr}5.8514&0&-2.4686\\\\0&8.7829&0\\\\-2.4686&0&2.9314\\end{array}\\right]\\]"
      ],
      "text/plain": [
       "3×3 Array{Sym,2}:\n",
       "  5.8514       0  -2.4686\n",
       "       0  8.7829        0\n",
       " -2.4686       0   2.9314"
      ]
     },
     "execution_count": 45,
     "metadata": {},
     "output_type": "execute_result"
    }
   ],
   "source": [
    "N_1θ1s = _1θ1s.subs(m10,m10_).subs(m11,m11_).subs(l10,l10_).subs(l11,l11_);\n",
    "N_1θ1s.evalf(5)"
   ]
  },
  {
   "cell_type": "markdown",
   "metadata": {},
   "source": [
    "#### 2-es test"
   ]
  },
  {
   "cell_type": "code",
   "execution_count": 46,
   "metadata": {},
   "outputs": [
    {
     "data": {
      "text/latex": [
       "\\[\\left[ \\begin{array}{rrr}\\frac{l_{2}^{2} m_{20}}{12}&0&0\\\\0&0&0\\\\0&0&\\frac{l_{2}^{2} m_{20}}{12}\\end{array}\\right]\\]"
      ],
      "text/plain": [
       "3×3 Array{Sym,2}:\n",
       " l2^2*m20/12  0            0\n",
       "           0  0            0\n",
       "           0  0  l2^2*m20/12"
      ]
     },
     "execution_count": 46,
     "metadata": {},
     "output_type": "execute_result"
    }
   ],
   "source": [
    "_2th20 = m20*[Sym(1//12)*l2^2 _0 _0;\n",
    "            _0 _0 _0;\n",
    "            _0 _0 Sym(1//12)*l2^2]"
   ]
  },
  {
   "cell_type": "code",
   "execution_count": 47,
   "metadata": {},
   "outputs": [
    {
     "data": {
      "text/latex": [
       "\\[\\left[ \\begin{array}{rrr}\\frac{25 l_{2}^{2} m_{20}}{2116}&0&0\\\\0&0&0\\\\0&0&\\frac{25 l_{2}^{2} m_{20}}{2116}\\end{array}\\right]\\]"
      ],
      "text/plain": [
       "3×3 Array{Sym,2}:\n",
       " 25*l2^2*m20/2116  0                 0\n",
       "                0  0                 0\n",
       "                0  0  25*l2^2*m20/2116"
      ]
     },
     "execution_count": 47,
     "metadata": {},
     "output_type": "execute_result"
    }
   ],
   "source": [
    "_2th20s = steiner(m20, _2r2-_2rrud2)"
   ]
  },
  {
   "cell_type": "code",
   "execution_count": 48,
   "metadata": {},
   "outputs": [
    {
     "data": {
      "text/latex": [
       "\\[\\left[ \\begin{array}{rrr}\\frac{81 l_{2}^{2} m}{529}&0&0\\\\0&0&0\\\\0&0&\\frac{81 l_{2}^{2} m}{529}\\end{array}\\right]\\]"
      ],
      "text/plain": [
       "3×3 Array{Sym,2}:\n",
       " 81*l2^2*m/529  0              0\n",
       "             0  0              0\n",
       "             0  0  81*l2^2*m/529"
      ]
     },
     "execution_count": 48,
     "metadata": {},
     "output_type": "execute_result"
    }
   ],
   "source": [
    "_2thms = steiner(m, _2rm-_2rrud2)"
   ]
  },
  {
   "cell_type": "code",
   "execution_count": 49,
   "metadata": {},
   "outputs": [
    {
     "data": {
      "text/latex": [
       "\\[\\left[ \\begin{array}{rrr}\\frac{l_{2}^{2} \\left(243 m + 151 m_{20}\\right)}{1587}&0&0\\\\0&0&0\\\\0&0&\\frac{l_{2}^{2} \\left(243 m + 151 m_{20}\\right)}{1587}\\end{array}\\right]\\]"
      ],
      "text/plain": [
       "3×3 Array{Sym,2}:\n",
       " l2^2*(243*m + 151*m20)/1587  0                            0\n",
       "                           0  0                            0\n",
       "                           0  0  l2^2*(243*m + 151*m20)/1587"
      ]
     },
     "execution_count": 49,
     "metadata": {},
     "output_type": "execute_result"
    }
   ],
   "source": [
    "_2θ2s = _2th20+_2th20s+_2thms;\n",
    "simpl(_2θ2s)"
   ]
  },
  {
   "cell_type": "code",
   "execution_count": 50,
   "metadata": {},
   "outputs": [
    {
     "data": {
      "text/latex": [
       "\\[\\left[ \\begin{array}{rrr}0.22304&0&0\\\\0&0&0\\\\0&0&0.22304\\end{array}\\right]\\]"
      ],
      "text/plain": [
       "3×3 Array{Sym,2}:\n",
       " 0.22304  0        0\n",
       "       0  0        0\n",
       "       0  0  0.22304"
      ]
     },
     "execution_count": 50,
     "metadata": {},
     "output_type": "execute_result"
    }
   ],
   "source": [
    "N_2θ2s = _2θ2s.subs(m20,m20_).subs(m,m_).subs(l2,l2_)\n",
    "N_2θ2s.evalf(5)"
   ]
  },
  {
   "cell_type": "markdown",
   "metadata": {},
   "source": [
    "### Tömegmátrixok"
   ]
  },
  {
   "cell_type": "code",
   "execution_count": 51,
   "metadata": {},
   "outputs": [
    {
     "data": {
      "text/latex": [
       "\\[\\left[ \\begin{array}{rr}\\frac{243}{175}&0\\\\0&0\\end{array}\\right]\\]"
      ],
      "text/plain": [
       "2×2 Array{Sym,2}:\n",
       " 243/175  0\n",
       "       0  0"
      ]
     },
     "execution_count": 51,
     "metadata": {},
     "output_type": "execute_result"
    }
   ],
   "source": [
    "Hv1 = m1_*permutedims(N0Jrs1)*N0Jrs1;\n",
    "simpl(Hv1)"
   ]
  },
  {
   "cell_type": "code",
   "execution_count": 62,
   "metadata": {},
   "outputs": [
    {
     "data": {
      "text/latex": [
       "\\[\\left[ \\begin{array}{rr}\\frac{9 \\left(7 \\sin{\\left(q_{2} \\right)} + 23\\right)^{2}}{575}&0\\\\0&\\frac{441}{575}\\end{array}\\right]\\]"
      ],
      "text/plain": [
       "2×2 Array{Sym,2}:\n",
       " 9*(7*sin(q2) + 23)^2/575        0\n",
       "                        0  441/575"
      ]
     },
     "execution_count": 62,
     "metadata": {},
     "output_type": "execute_result"
    }
   ],
   "source": [
    "Hv2 = m2_*permutedims(N0Jrs2)*N0Jrs2;\n",
    "simpl(Hv2)"
   ]
  },
  {
   "cell_type": "code",
   "execution_count": 53,
   "metadata": {},
   "outputs": [
    {
     "data": {
      "text/latex": [
       "\\[\\left[ \\begin{array}{rr}\\frac{9 l_{11}^{2} m_{10}}{196} + \\frac{97 l_{11}^{2} m_{11}}{588}&0\\\\0&0\\end{array}\\right]\\]"
      ],
      "text/plain": [
       "2×2 Array{Sym,2}:\n",
       " 9*l11^2*m10/196 + 97*l11^2*m11/588  0\n",
       "                                  0  0"
      ]
     },
     "execution_count": 53,
     "metadata": {},
     "output_type": "execute_result"
    }
   ],
   "source": [
    "Hω1 = permutedims(_0Jω1nt) * _0R1 * _1θ1s * permutedims(_0R1) * _0Jω1nt"
   ]
  },
  {
   "cell_type": "code",
   "execution_count": 54,
   "metadata": {},
   "outputs": [
    {
     "data": {
      "text/latex": [
       "\\[\\left[ \\begin{array}{rr}\\frac{l_{2}^{2} \\left(243 m + 151 m_{20}\\right) \\sin^{2}{\\left(q_{2} \\right)}}{1587}&0\\\\0&\\frac{l_{2}^{2} \\left(243 m + 151 m_{20}\\right)}{1587}\\end{array}\\right]\\]"
      ],
      "text/plain": [
       "2×2 Array{Sym,2}:\n",
       " l2^2*(243*m + 151*m20)*sin(q2)^2/1587                            0\n",
       "                                     0  l2^2*(243*m + 151*m20)/1587"
      ]
     },
     "execution_count": 54,
     "metadata": {},
     "output_type": "execute_result"
    }
   ],
   "source": [
    "Hω2 = permutedims(_0Jω2nt) * _0R2 * _2θ2s * permutedims(_0R2) * _0Jω2nt;\n",
    "simpl(Hω2)"
   ]
  },
  {
   "cell_type": "code",
   "execution_count": 55,
   "metadata": {},
   "outputs": [
    {
     "data": {
      "text/latex": [
       "\\[\\left[ \\begin{array}{rr}\\frac{9 l_{11}^{2} m_{10}}{196} + \\frac{97 l_{11}^{2} m_{11}}{588} + \\frac{81 l_{2}^{2} m \\sin^{2}{\\left(q_{2} \\right)}}{529} + \\frac{151 l_{2}^{2} m_{20} \\sin^{2}{\\left(q_{2} \\right)}}{1587} + \\frac{441 \\sin^{2}{\\left(q_{2} \\right)}}{575} + \\frac{126 \\sin{\\left(q_{2} \\right)}}{25} + \\frac{1692}{175}&0\\\\0&\\frac{81 l_{2}^{2} m}{529} + \\frac{151 l_{2}^{2} m_{20}}{1587} + \\frac{441}{575}\\end{array}\\right]\\]"
      ],
      "text/plain": [
       "2×2 Array{Sym,2}:\n",
       " 9*l11^2*m10/196 + 97*l11^2*m11/588 + 81*l2^2*m*sin(q2)^2/529 + 151*l2^2*m20*sin(q2)^2/1587 + 441*sin(q2)^2/575 + 126*sin(q2)/25 + 1692/175  …                                            0\n",
       "                                                                                                                                          0     81*l2^2*m/529 + 151*l2^2*m20/1587 + 441/575"
      ]
     },
     "execution_count": 55,
     "metadata": {},
     "output_type": "execute_result"
    }
   ],
   "source": [
    "H = Hv1+Hv2+Hω1+Hω2;\n",
    "simpl(H)"
   ]
  },
  {
   "cell_type": "code",
   "execution_count": 56,
   "metadata": {},
   "outputs": [
    {
     "data": {
      "text/latex": [
       "\\[\\left[ \\begin{array}{rr}0.99 \\sin^{2}{\\left(q_{2} \\right)} + 5.04 \\sin{\\left(q_{2} \\right)} + 12.6&0\\\\0&0.99\\end{array}\\right]\\]"
      ],
      "text/plain": [
       "2×2 Array{Sym,2}:\n",
       " 0.99*sin(q2)^2 + 5.04*sin(q2) + 12.6        0\n",
       "                                    0  0.99000"
      ]
     },
     "execution_count": 56,
     "metadata": {},
     "output_type": "execute_result"
    }
   ],
   "source": [
    "simpl(H.subs(m10,m10_).subs(m20,m20_).subs(m11,m11_).subs(m,m_).subs(l11,l11_).subs(l2,l2_)).evalf(5)"
   ]
  },
  {
   "cell_type": "code",
   "execution_count": 57,
   "metadata": {},
   "outputs": [
    {
     "data": {
      "text/latex": [
       "\\[\\left[ \\begin{array}{rr}\\frac{9 l_{11}^{2} m_{10}}{196} + \\frac{97 l_{11}^{2} m_{11}}{588} + \\frac{81 l_{2}^{2} m \\sin^{2}{\\left(q_{2} \\right)}}{529} + \\frac{151 l_{2}^{2} m_{20} \\sin^{2}{\\left(q_{2} \\right)}}{1587} + \\frac{441 \\sin^{2}{\\left(q_{2} \\right)}}{575} + \\frac{126 \\sin{\\left(q_{2} \\right)}}{25} + \\frac{1692}{175}&0\\\\0&\\frac{81 l_{2}^{2} m}{529} + \\frac{151 l_{2}^{2} m_{20}}{1587} + \\frac{441}{575}\\end{array}\\right]\\]"
      ],
      "text/plain": [
       "2×2 Array{Sym,2}:\n",
       " 9*l11^2*m10/196 + 97*l11^2*m11/588 + 81*l2^2*m*sin(q2)^2/529 + 151*l2^2*m20*sin(q2)^2/1587 + 441*sin(q2)^2/575 + 126*sin(q2)/25 + 1692/175  …                                            0\n",
       "                                                                                                                                          0     81*l2^2*m/529 + 151*l2^2*m20/1587 + 441/575"
      ]
     },
     "execution_count": 57,
     "metadata": {},
     "output_type": "execute_result"
    }
   ],
   "source": [
    "H = Hv1+Hv2+Hω1+Hω2;\n",
    "simpl(H)"
   ]
  },
  {
   "cell_type": "code",
   "execution_count": 58,
   "metadata": {},
   "outputs": [
    {
     "data": {
      "text/latex": [
       "\\[\\left[ \\begin{array}{rr}0.99 \\sin^{2}{\\left(q_{2} \\right)} + 5.04 \\sin{\\left(q_{2} \\right)} + 12.6&0\\\\0&0.99\\end{array}\\right]\\]"
      ],
      "text/plain": [
       "2×2 Array{Sym,2}:\n",
       " 0.99*sin(q2)^2 + 5.04*sin(q2) + 12.6        0\n",
       "                                    0  0.99000"
      ]
     },
     "execution_count": 58,
     "metadata": {},
     "output_type": "execute_result"
    }
   ],
   "source": [
    "simpl(H.subs(m10,m10_).subs(m20,m20_).subs(m11,m11_).subs(m,m_).subs(l11,l11_).subs(l2,l2_).evalf(5))"
   ]
  },
  {
   "cell_type": "markdown",
   "metadata": {},
   "source": [
    "### Kinetikus energia"
   ]
  },
  {
   "cell_type": "code",
   "execution_count": 125,
   "metadata": {},
   "outputs": [],
   "source": [
    "T_ = Sym(1//2)*[q1t'(t) q2t'(t)]*H*[q1t'(t),q2t'(t)];\n",
    "T = T_[1].subs(m10,m10_).subs(m20,m20_).subs(m11,m11_).subs(m,m_).subs(l11,l11_).subs(l2,l2_);"
   ]
  },
  {
   "cell_type": "code",
   "execution_count": 126,
   "metadata": {},
   "outputs": [
    {
     "data": {
      "text/latex": [
       "\\begin{equation*}\\left(0.495 \\sin^{2}{\\left(q_{2} \\right)} + 2.52 \\sin{\\left(q_{2} \\right)} + 6.3\\right) \\left(\\frac{d}{d t} \\operatorname{q_{1}}{\\left(t \\right)}\\right)^{2} + 0.495 \\left(\\frac{d}{d t} \\operatorname{q_{2}}{\\left(t \\right)}\\right)^{2}\\end{equation*}"
      ],
      "text/plain": [
       "                                                 2                    2\n",
       "/         2                         \\ /d        \\          /d        \\ \n",
       "\\0.495*sin (q2) + 2.52*sin(q2) + 6.3/*|--(q1(t))|  + 0.495*|--(q2(t))| \n",
       "                                      \\dt       /          \\dt       / "
      ]
     },
     "execution_count": 126,
     "metadata": {},
     "output_type": "execute_result"
    }
   ],
   "source": [
    "simplify(T.evalf(5))"
   ]
  },
  {
   "cell_type": "markdown",
   "metadata": {},
   "source": [
    "### Potenciális energia"
   ]
  },
  {
   "cell_type": "code",
   "execution_count": 136,
   "metadata": {},
   "outputs": [
    {
     "data": {
      "text/latex": [
       "\\begin{equation*}41.202 \\cos{\\left(q_{2} \\right)} + 651.38\\end{equation*}"
      ],
      "text/plain": [
       "41.202*cos(q2) + 651.38"
      ]
     },
     "execution_count": 136,
     "metadata": {},
     "output_type": "execute_result"
    }
   ],
   "source": [
    "U_ = m1_*[0 0 g]*_0rrud1[1:3] + m2_*[0 0 g]*_0rrud2[1:3];\n",
    "U = U_[1].subs(l10,  l10_).subs(g, g_).subs(l2, l2_);\n",
    "simplify(U).evalf(5)"
   ]
  },
  {
   "cell_type": "markdown",
   "metadata": {},
   "source": [
    "### Másodfajú Lagrange-egyenlet"
   ]
  },
  {
   "cell_type": "markdown",
   "metadata": {},
   "source": [
    "##### k=1"
   ]
  },
  {
   "cell_type": "code",
   "execution_count": 128,
   "metadata": {},
   "outputs": [
    {
     "data": {
      "text/latex": [
       "\\begin{equation*}\\left(0.99 \\sin^{2}{\\left(q_{2} \\right)} + 5.04 \\sin{\\left(q_{2} \\right)} + 12.6\\right) \\frac{d}{d t} \\operatorname{q_{1}}{\\left(t \\right)}\\end{equation*}"
      ],
      "text/plain": [
       "/        2                          \\ d        \n",
       "\\0.99*sin (q2) + 5.04*sin(q2) + 12.6/*--(q1(t))\n",
       "                                      dt       "
      ]
     },
     "execution_count": 128,
     "metadata": {},
     "output_type": "execute_result"
    }
   ],
   "source": [
    "deltaT_deltaq1p = simplify(diff(T, q1t'(t)).evalf(5))"
   ]
  },
  {
   "cell_type": "code",
   "execution_count": 129,
   "metadata": {},
   "outputs": [
    {
     "data": {
      "text/latex": [
       "\\begin{equation*}\\left(0.99 \\sin^{2}{\\left(q_{2} \\right)} + 5.04 \\sin{\\left(q_{2} \\right)} + 12.6\\right) \\frac{d^{2}}{d t^{2}} \\operatorname{q_{1}}{\\left(t \\right)}\\end{equation*}"
      ],
      "text/plain": [
       "                                        2       \n",
       "/        2                          \\  d        \n",
       "\\0.99*sin (q2) + 5.04*sin(q2) + 12.6/*---(q1(t))\n",
       "                                        2       \n",
       "                                      dt        "
      ]
     },
     "execution_count": 129,
     "metadata": {},
     "output_type": "execute_result"
    }
   ],
   "source": [
    "d_dt_deltaT_deltaq1p = diff(deltaT_deltaq1p, t)"
   ]
  },
  {
   "cell_type": "markdown",
   "metadata": {},
   "source": [
    "##### k=2"
   ]
  },
  {
   "cell_type": "code",
   "execution_count": 141,
   "metadata": {},
   "outputs": [
    {
     "data": {
      "text/latex": [
       "\\begin{equation*}0.99 \\frac{d^{2}}{d t^{2}} \\operatorname{q_{2}}{\\left(t \\right)}\\end{equation*}"
      ],
      "text/plain": [
       "       2       \n",
       "      d        \n",
       "0.99*---(q2(t))\n",
       "       2       \n",
       "     dt        "
      ]
     },
     "execution_count": 141,
     "metadata": {},
     "output_type": "execute_result"
    }
   ],
   "source": [
    "deltaT_deltaq2p = simplify(diff(T, q2t'(t),t).evalf(5))"
   ]
  },
  {
   "cell_type": "code",
   "execution_count": 132,
   "metadata": {},
   "outputs": [
    {
     "data": {
      "text/latex": [
       "\\begin{equation*}\\left(0.99 \\sin{\\left(q_{2} \\right)} + 2.52\\right) \\cos{\\left(q_{2} \\right)} \\left(\\frac{d}{d t} \\operatorname{q_{1}}{\\left(t \\right)}\\right)^{2}\\end{equation*}"
      ],
      "text/plain": [
       "                                         2\n",
       "                              /d        \\ \n",
       "(0.99*sin(q2) + 2.52)*cos(q2)*|--(q1(t))| \n",
       "                              \\dt       / "
      ]
     },
     "execution_count": 132,
     "metadata": {},
     "output_type": "execute_result"
    }
   ],
   "source": [
    "deltaT_deltaq2 = simplify(diff(T, q2).evalf(5))"
   ]
  },
  {
   "cell_type": "code",
   "execution_count": 138,
   "metadata": {},
   "outputs": [
    {
     "data": {
      "text/latex": [
       "\\begin{equation*}- 41.202 \\sin{\\left(q_{2} \\right)}\\end{equation*}"
      ],
      "text/plain": [
       "-41.202*sin(q2)"
      ]
     },
     "execution_count": 138,
     "metadata": {},
     "output_type": "execute_result"
    }
   ],
   "source": [
    "deltaU_deltaq2 = diff(U, q2).evalf(5)"
   ]
  },
  {
   "cell_type": "code",
   "execution_count": null,
   "metadata": {},
   "outputs": [],
   "source": []
  },
  {
   "cell_type": "code",
   "execution_count": null,
   "metadata": {},
   "outputs": [],
   "source": []
  }
 ],
 "metadata": {
  "kernelspec": {
   "display_name": "Julia 1.1.0",
   "language": "julia",
   "name": "julia-1.1"
  },
  "language_info": {
   "file_extension": ".jl",
   "mimetype": "application/julia",
   "name": "julia",
   "version": "1.1.0"
  }
 },
 "nbformat": 4,
 "nbformat_minor": 2
}
