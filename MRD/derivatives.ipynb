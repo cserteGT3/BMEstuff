{
 "cells": [
  {
   "cell_type": "code",
   "execution_count": 4,
   "metadata": {},
   "outputs": [],
   "source": [
    "using SymPy"
   ]
  },
  {
   "cell_type": "code",
   "execution_count": 5,
   "metadata": {},
   "outputs": [
    {
     "data": {
      "text/plain": [
       "(t, x, y, q1, q2)"
      ]
     },
     "execution_count": 5,
     "metadata": {},
     "output_type": "execute_result"
    }
   ],
   "source": [
    "@vars t x y q1 q2"
   ]
  },
  {
   "cell_type": "code",
   "execution_count": 6,
   "metadata": {},
   "outputs": [
    {
     "data": {
      "text/latex": [
       "\\begin{align*}\\operatorname{q_{1}}\\end{align*}"
      ],
      "text/plain": [
       "q1"
      ]
     },
     "execution_count": 6,
     "metadata": {},
     "output_type": "execute_result"
    }
   ],
   "source": [
    "q1t = SymFunction(\"q1\")"
   ]
  },
  {
   "cell_type": "code",
   "execution_count": 7,
   "metadata": {},
   "outputs": [
    {
     "data": {
      "text/latex": [
       "\\begin{align*}\\operatorname{q_{2}}\\end{align*}"
      ],
      "text/plain": [
       "q2"
      ]
     },
     "execution_count": 7,
     "metadata": {},
     "output_type": "execute_result"
    }
   ],
   "source": [
    "q2t = SymFunction(\"q2\")"
   ]
  },
  {
   "cell_type": "code",
   "execution_count": 8,
   "metadata": {},
   "outputs": [
    {
     "data": {
      "text/latex": [
       "\\begin{equation*}\\operatorname{q_{1}}{\\left(t \\right)}\\end{equation*}"
      ],
      "text/plain": [
       "q1(t)"
      ]
     },
     "execution_count": 8,
     "metadata": {},
     "output_type": "execute_result"
    }
   ],
   "source": [
    "q1t(t)"
   ]
  },
  {
   "cell_type": "code",
   "execution_count": 9,
   "metadata": {},
   "outputs": [
    {
     "data": {
      "text/latex": [
       "\\begin{equation*}\\sin{\\left(x \\right)} + \\sin{\\left(y \\right)} + \\cos{\\left(x \\right)} + \\cos{\\left(y \\right)}\\end{equation*}"
      ],
      "text/plain": [
       "sin(x) + sin(y) + cos(x) + cos(y)"
      ]
     },
     "execution_count": 9,
     "metadata": {},
     "output_type": "execute_result"
    }
   ],
   "source": [
    "exp = sin(x)+cos(x)+sin(y)+cos(y)"
   ]
  },
  {
   "cell_type": "code",
   "execution_count": 10,
   "metadata": {},
   "outputs": [
    {
     "data": {
      "text/latex": [
       "\\begin{equation*}\\frac{d}{d t} \\operatorname{q_{1}}{\\left(t \\right)}\\end{equation*}"
      ],
      "text/plain": [
       "d        \n",
       "--(q1(t))\n",
       "dt       "
      ]
     },
     "execution_count": 10,
     "metadata": {},
     "output_type": "execute_result"
    }
   ],
   "source": [
    "q1pt = q1t'(t)"
   ]
  },
  {
   "cell_type": "code",
   "execution_count": 11,
   "metadata": {},
   "outputs": [
    {
     "data": {
      "text/latex": [
       "\\begin{equation*}\\frac{d}{d t} \\operatorname{q_{2}}{\\left(t \\right)}\\end{equation*}"
      ],
      "text/plain": [
       "d        \n",
       "--(q2(t))\n",
       "dt       "
      ]
     },
     "execution_count": 11,
     "metadata": {},
     "output_type": "execute_result"
    }
   ],
   "source": [
    "q2pt = q2t'(t)"
   ]
  },
  {
   "cell_type": "code",
   "execution_count": 12,
   "metadata": {},
   "outputs": [
    {
     "data": {
      "text/latex": [
       "\\begin{equation*}\\sin{\\left(\\operatorname{q_{1}}{\\left(t \\right)} \\right)} + \\sin{\\left(\\operatorname{q_{2}}{\\left(t \\right)} \\right)} + \\cos{\\left(\\operatorname{q_{1}}{\\left(t \\right)} \\right)} + \\cos{\\left(\\operatorname{q_{2}}{\\left(t \\right)} \\right)}\\end{equation*}"
      ],
      "text/plain": [
       "sin(q1(t)) + sin(q2(t)) + cos(q1(t)) + cos(q2(t))"
      ]
     },
     "execution_count": 12,
     "metadata": {},
     "output_type": "execute_result"
    }
   ],
   "source": [
    "exp2 = exp.subs(x,q1t(t)).subs(y,q2t(t))"
   ]
  },
  {
   "cell_type": "code",
   "execution_count": 13,
   "metadata": {},
   "outputs": [
    {
     "data": {
      "text/latex": [
       "\\begin{equation*}- \\sin{\\left(\\operatorname{q_{1}}{\\left(t \\right)} \\right)} \\frac{d}{d t} \\operatorname{q_{1}}{\\left(t \\right)} - \\sin{\\left(\\operatorname{q_{2}}{\\left(t \\right)} \\right)} \\frac{d}{d t} \\operatorname{q_{2}}{\\left(t \\right)} + \\cos{\\left(\\operatorname{q_{1}}{\\left(t \\right)} \\right)} \\frac{d}{d t} \\operatorname{q_{1}}{\\left(t \\right)} + \\cos{\\left(\\operatorname{q_{2}}{\\left(t \\right)} \\right)} \\frac{d}{d t} \\operatorname{q_{2}}{\\left(t \\right)}\\end{equation*}"
      ],
      "text/plain": [
       "             d                      d                      d                  \n",
       "- sin(q1(t))*--(q1(t)) - sin(q2(t))*--(q2(t)) + cos(q1(t))*--(q1(t)) + cos(q2(\n",
       "             dt                     dt                     dt                 \n",
       "\n",
       "    d        \n",
       "t))*--(q2(t))\n",
       "    dt       "
      ]
     },
     "execution_count": 13,
     "metadata": {},
     "output_type": "execute_result"
    }
   ],
   "source": [
    "dexp = diff(exp2, t)"
   ]
  },
  {
   "cell_type": "code",
   "execution_count": 14,
   "metadata": {},
   "outputs": [
    {
     "data": {
      "text/latex": [
       "\\begin{equation*}- \\sin{\\left(q_{1} \\right)} - \\sin{\\left(q_{2} \\right)} + \\cos{\\left(q_{1} \\right)} + \\cos{\\left(q_{2} \\right)}\\end{equation*}"
      ],
      "text/plain": [
       "-sin(q1) - sin(q2) + cos(q1) + cos(q2)"
      ]
     },
     "execution_count": 14,
     "metadata": {},
     "output_type": "execute_result"
    }
   ],
   "source": [
    "dexp.subs(q1pt(t),Sym(1)).subs(q2pt(t),Sym(1)).subs(q1t(t),q1).subs(q2t(t),q2)"
   ]
  },
  {
   "cell_type": "code",
   "execution_count": null,
   "metadata": {},
   "outputs": [],
   "source": []
  }
 ],
 "metadata": {
  "kernelspec": {
   "display_name": "Julia 1.1.0",
   "language": "julia",
   "name": "julia-1.1"
  },
  "language_info": {
   "file_extension": ".jl",
   "mimetype": "application/julia",
   "name": "julia",
   "version": "1.1.0"
  }
 },
 "nbformat": 4,
 "nbformat_minor": 2
}
